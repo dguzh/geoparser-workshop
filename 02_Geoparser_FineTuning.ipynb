{
 "cells": [
  {
   "cell_type": "markdown",
   "id": "ead637c6-f8f4-44fc-a6f7-7e28d38b2256",
   "metadata": {},
   "source": [
    "# Irchel Geoparser Workshop: Fine-Tuning a Transformer Model\n",
    "\n",
    "In this second notebook, we will learn how to fine-tune the transformer model used by Geoparser for specific text corpora. This tutorial will guide you through the process of preparing training data, training a custom model, and evaluating its performance.\n",
    "\n",
    "**Objectives:**\n",
    "\n",
    "- Learn how to annotate text data using the Geoparser Annotator web app.\n",
    "- Understand how to prepare annotated data for model training and testing.\n",
    "- Fine-tune the Geoparser model using custom annotations.\n",
    "- Evaluate and compare the performance of the base model and the fine-tuned model.\n",
    "\n",
    "---\n",
    "\n",
    "## 📖 **Documentation**\n",
    "\n",
    "This tutorial requires you to consult the Geoparser documentation: [docs.geoparser.app](https://docs.geoparser.app). Knowing where to find information about the library is crucial for working with it effectively, especially as it is likely that future updates may bring changes to functionality. The documentation will always be the definitive reference for how to use the package.\n",
    "\n",
    "---\n",
    "\n",
    "## 1. Exploring the Geoparser Annotator\n",
    "\n",
    "The Geoparser Annotator is a browser-based tool for creating annotated datasets for training and evaluation. In this section, you will launch the Annotator app, upload texts, and familiarize yourself with its features.\n",
    "\n",
    "### 1.1 Launch the Geoparser Annotator\n",
    "\n",
    "**Objective:** Start the Geoparser Annotator web app on your device.\n",
    "\n",
    "**Instructions:**\n",
    "\n",
    "- Open your terminal or command prompt.\n",
    "- Run the command below to launch the Annotator.\n",
    "- Once the app starts, it will automatically open in your browser on `http://127.0.0.1:5000/`.\n",
    "- Familiarize yourself with the Annotator interface.\n",
    "\n",
    "**Hints:**\n",
    "- Ensure that you run the launch command in an environment where you have `geoparser` installed.\n",
    "\n",
    "**Launch command:**\n",
    "```bash\n",
    "python -m geoparser annotator\n",
    "```\n",
    "\n",
    "### 1.2 Upload and Annotate Texts\n",
    "\n",
    "**Objective:** Upload texts to the annotator and familiarize yourself with the annotation process.\n",
    "\n",
    "**Instructions:**\n",
    "\n",
    "- Upload the `.txt` files from the previous tutorial to the Annotator.\n",
    "- Correct the pre-recognised toponyms:\n",
    "  - Delete invalid toponyms.\n",
    "  - Adjust faulty string boundaries.\n",
    "  - Tag missed toponyms.\n",
    "- Annotate toponym locations:\n",
    "  - Infer the locations from the surrounding context.\n",
    "  - Use the search and filter functionality to find the correct locations in the database.\n",
    "  - Annotate the location.\n",
    "- Explore the different features:\n",
    "  - Play around with session settings.\n",
    "  - Add and remove documents.\n",
    "  - Download the annotation session file.\n",
    "  - Restart the Annotator and resume a previous session (from file or cache).\n",
    "\n",
    "**Note:** This initial tinkering is to get you comfortable with the Annotator. The quality of annotations is not important for this task.\n",
    "\n",
    "---\n",
    "\n",
    "## 2. Preparing Training Data\n",
    "\n",
    "To fine-tune the transformer model, we need annotated data. We will fine-tune a transformer using annotated tweets to optimize its performance on a tweet corpus.\n",
    "\n",
    "### 2.1 Complete the Annotations\n",
    "\n",
    "**Objective:** Finish annotating the provided annotation session to create a training dataset.\n",
    "\n",
    "**Instructions:**\n",
    "\n",
    "- Download the provided annotation session file (`training_annotations_incomplete.json`) that contains tweets with most toponyms already annotated.\n",
    "- Upload the file to the Annotator.\n",
    "- Finish annotating the remaining texts.\n",
    "- Download the final annotations file (e.g. as `training_annotations.json`).\n",
    "\n",
    "### 2.2 Initialize GeoparserTrainer\n",
    "\n",
    "**Objective:** Initialize the GeoparserTrainer with the transformer model we want to fine-tune.\n",
    "\n",
    "**Instructions:**\n",
    "\n",
    "- Import the necessary class to use GeoparserTrainer.\n",
    "- Initialize an instance of the `GeoparserTrainer` class.\n",
    "- Specify `dguzh/geo-all-MiniLM-L6-v2` as the transformer model to be fine-tuned.\n",
    "\n",
    "**Your Code:**\n",
    "\n",
    "*(Write your code in the cell below.)*"
   ]
  },
  {
   "cell_type": "code",
   "execution_count": null,
   "id": "3c1041c5-8359-41e4-96d5-b2fdc24039eb",
   "metadata": {},
   "outputs": [],
   "source": [
    "# Your code here"
   ]
  },
  {
   "cell_type": "markdown",
   "id": "4829fb31-c098-4b61-88ce-78e29a4a514f",
   "metadata": {},
   "source": [
    "### 2.3 Load Training Data into GeoparserTrainer\n",
    "\n",
    "**Objective:** Load your annotated training data into GeoparserTrainer.\n",
    "\n",
    "**Instructions:**\n",
    "\n",
    "- Load the completed training annotations file into the GeoparserTrainer.\n",
    "- Store the prepared training documents in a variable.\n",
    "- Use `include_unmatched=True` to avoid excluding annotations not recognized by spaCy.\n",
    "\n",
    "**Your Code:**\n",
    "\n",
    "*(Write your code in the cell below.)*"
   ]
  },
  {
   "cell_type": "code",
   "execution_count": null,
   "id": "1fa95bf6-64e7-4d39-90b7-0957867bf3d8",
   "metadata": {},
   "outputs": [],
   "source": [
    "# Your code here"
   ]
  },
  {
   "cell_type": "markdown",
   "id": "d07008d1-1d5b-4a2f-8355-6ca82b99aeee",
   "metadata": {},
   "source": [
    "---\n",
    "\n",
    "## 3. Evaluating the Base Model\n",
    "\n",
    "Before fine-tuning, we'll evaluate the performance of the base model using the test dataset.\n",
    "\n",
    "### 3.1 Load Test Data from the Provided JSON File\n",
    "\n",
    "**Objective:** Load the test annotations to use for model evaluation.\n",
    "\n",
    "**Instructions:**\n",
    "\n",
    "- We've provided a fully annotated test annotations file (`test_annotations.json`).\n",
    "- Load them into the GeoparserTrainer in the same way as the training data. Store the test documents in a separate variable.\n",
    "\n",
    "**Your Code:**\n",
    "\n",
    "*(Write your code in the cell below.)*"
   ]
  },
  {
   "cell_type": "code",
   "execution_count": null,
   "id": "bf8f963e-d189-4fe3-9884-ea0814b6ad8d",
   "metadata": {},
   "outputs": [],
   "source": [
    "# Your code here"
   ]
  },
  {
   "cell_type": "markdown",
   "id": "455efe7e-05d7-4080-9600-da3b0ea72976",
   "metadata": {},
   "source": [
    "### 3.2 Evaluate the Base Model\n",
    "\n",
    "**Objective:** Evaluate the performance of the base model using the test data.\n",
    "\n",
    "**Instructions:**\n",
    "\n",
    "- Resolve the toponyms in the test dataset to generate predictions for them using the base model.\n",
    "- Evaluate these predictions to assess the model's performance.\n",
    "- Store the evaluation results for later comparison.\n",
    "- Print the evaluation results.\n",
    "\n",
    "**Your Code:**\n",
    "\n",
    "*(Write your code in the cell below.)*"
   ]
  },
  {
   "cell_type": "code",
   "execution_count": null,
   "id": "f076aaee-2591-4361-9cfc-1e5974d6f2fa",
   "metadata": {},
   "outputs": [],
   "source": [
    "# Your code here"
   ]
  },
  {
   "cell_type": "markdown",
   "id": "1483f8b8-c1b0-464f-8344-7739232ce41f",
   "metadata": {},
   "source": [
    "---\n",
    "\n",
    "## 4. Fine-Tuning the Model\n",
    "\n",
    "Now we'll fine-tune the Geoparser model using our annotated training data.\n",
    "\n",
    "### 4.1 Train the Model With the Prepared Training Data\n",
    "\n",
    "**Objective:** Fine-tune the Geoparser model with your training data.\n",
    "\n",
    "**Instructions:**\n",
    "\n",
    "- Use the initialized `GeoparserTrainer` to train the loaded transformer model using the prepared training documents.\n",
    "- Specify an output path where the fine-tuned model will be saved (e.g., `\"fine_tuned_model\"`).\n",
    "\n",
    "**Your Code:**\n",
    "\n",
    "*(Write your code in the cell below.)*"
   ]
  },
  {
   "cell_type": "code",
   "execution_count": null,
   "id": "1381d395-1427-4397-a8b4-1f6e5fb56346",
   "metadata": {},
   "outputs": [],
   "source": [
    "# Your code here"
   ]
  },
  {
   "cell_type": "markdown",
   "id": "b3716148-cef9-47dc-82e6-c53a3bd57fce",
   "metadata": {},
   "source": [
    "### 4.2 Evaluate the Fine-Tuned Model\n",
    "\n",
    "**Objective:** Evaluate the performance of the fine-tuned model using the test data.\n",
    "\n",
    "**Instructions:**\n",
    "\n",
    "- Follow the same procedure you used to evaluate the base model.\n",
    "- Use the same test documents you used for evaluating the base model.\n",
    "\n",
    "**Hints:**\n",
    "- After training, the original transformer model loaded in the GeoparserTrainer is automatically replaced with the fine-tuned version.\n",
    "- Resolving toponyms in previously processed GeoDoc objects will overwrite existing predictions with those generated by the new model.\n",
    "\n",
    "**Your Code:**\n",
    "\n",
    "*(Write your code in the cell below.)*"
   ]
  },
  {
   "cell_type": "code",
   "execution_count": null,
   "id": "32f16b43-8789-4661-8e33-452b0403d315",
   "metadata": {},
   "outputs": [],
   "source": [
    "# Your code here"
   ]
  },
  {
   "cell_type": "markdown",
   "id": "9b1123da-bcdc-4895-9c63-9542563a929d",
   "metadata": {},
   "source": [
    "---\n",
    "\n",
    "## 5. Comparing Model Performance\n",
    "\n",
    "Finally, we'll compare the evaluation results of the base model and the fine-tuned model to see if there's an improvement.\n",
    "\n",
    "### 5.1 Compare the Results Before and After Fine-Tuning\n",
    "\n",
    "**Objective:** Analyze the evaluation metrics to determine the impact of fine-tuning.\n",
    "\n",
    "**Analyze the Results:**\n",
    "\n",
    "- Compare the evaluation metrics obtained from both models.\n",
    "- Consider the costs and benefits of fine-tuning a model, and evaluate the scenarios in which it makes sense to undertake this process."
   ]
  },
  {
   "cell_type": "code",
   "execution_count": null,
   "id": "b3861e39-1f0c-4f93-8b2d-166152addfb6",
   "metadata": {},
   "outputs": [],
   "source": []
  }
 ],
 "metadata": {
  "kernelspec": {
   "display_name": "Python 3 (ipykernel)",
   "language": "python",
   "name": "python3"
  },
  "language_info": {
   "codemirror_mode": {
    "name": "ipython",
    "version": 3
   },
   "file_extension": ".py",
   "mimetype": "text/x-python",
   "name": "python",
   "nbconvert_exporter": "python",
   "pygments_lexer": "ipython3",
   "version": "3.10.9"
  }
 },
 "nbformat": 4,
 "nbformat_minor": 5
}
